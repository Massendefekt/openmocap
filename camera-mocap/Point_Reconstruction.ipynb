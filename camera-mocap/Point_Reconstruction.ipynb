{
 "cells": [
  {
   "cell_type": "code",
   "execution_count": null,
   "metadata": {},
   "outputs": [],
   "source": [
    "import cv2 as cv\n",
    "import numpy as np"
   ]
  },
  {
   "cell_type": "markdown",
   "metadata": {},
   "source": [
    "## Point Reconstruction (Triangulation)\n",
    "\n",
    "In this script the previously calculated values are used to triangulate the projected real world points. The system uses two cameras.\n",
    "\n",
    "Paths to import files from:"
   ]
  },
  {
   "cell_type": "code",
   "execution_count": null,
   "metadata": {},
   "outputs": [],
   "source": [
    "# camera parameters for cam 1 and 2\n",
    "config_c_1 = ''\n",
    "config_c_2 = ''\n",
    "\n",
    "# 'blobs' for cam 1 and 2\n",
    "blobs_c_1 = ''\n",
    "blobs_c_2 = ''"
   ]
  },
  {
   "cell_type": "markdown",
   "metadata": {},
   "source": [
    "Import the values"
   ]
  },
  {
   "cell_type": "code",
   "execution_count": 2,
   "metadata": {},
   "outputs": [
    {
     "ename": "NameError",
     "evalue": "name 'np' is not defined",
     "output_type": "error",
     "traceback": [
      "\u001b[1;31m---------------------------------------------------------------------------\u001b[0m",
      "\u001b[1;31mNameError\u001b[0m                                 Traceback (most recent call last)",
      "\u001b[1;32m<ipython-input-2-e105d7b3e09b>\u001b[0m in \u001b[0;36m<module>\u001b[1;34m()\u001b[0m\n\u001b[1;32m----> 1\u001b[1;33m \u001b[0mconfig_c_1\u001b[0m \u001b[1;33m=\u001b[0m \u001b[0mnp\u001b[0m\u001b[1;33m.\u001b[0m\u001b[0mload\u001b[0m\u001b[1;33m(\u001b[0m\u001b[0mconfig_c_1\u001b[0m\u001b[1;33m)\u001b[0m\u001b[1;33m\u001b[0m\u001b[0m\n\u001b[0m\u001b[0;32m      2\u001b[0m \u001b[0mconfig_c_2\u001b[0m \u001b[1;33m=\u001b[0m \u001b[0mnp\u001b[0m\u001b[1;33m.\u001b[0m\u001b[0mload\u001b[0m\u001b[1;33m(\u001b[0m\u001b[0mconfig_c_2\u001b[0m\u001b[1;33m)\u001b[0m\u001b[1;33m\u001b[0m\u001b[0m\n\u001b[0;32m      3\u001b[0m \u001b[1;33m\u001b[0m\u001b[0m\n\u001b[0;32m      4\u001b[0m \u001b[0mblobs_c_1\u001b[0m \u001b[1;33m=\u001b[0m \u001b[0mnp\u001b[0m\u001b[1;33m.\u001b[0m\u001b[0mload\u001b[0m\u001b[1;33m(\u001b[0m\u001b[0mblobs_c_1\u001b[0m\u001b[1;33m)\u001b[0m\u001b[1;33m\u001b[0m\u001b[0m\n\u001b[0;32m      5\u001b[0m \u001b[0mblobs_c_2\u001b[0m \u001b[1;33m=\u001b[0m \u001b[0mnp\u001b[0m\u001b[1;33m.\u001b[0m\u001b[0mload\u001b[0m\u001b[1;33m(\u001b[0m\u001b[0mblobs_c_2\u001b[0m\u001b[1;33m)\u001b[0m\u001b[1;33m\u001b[0m\u001b[0m\n",
      "\u001b[1;31mNameError\u001b[0m: name 'np' is not defined"
     ]
    }
   ],
   "source": [
    "config_c_1 = np.load(config_c_1)\n",
    "config_c_2 = np.load(config_c_2)\n",
    "\n",
    "blobs_c_1 = np.load(blobs_c_1)[0]\n",
    "blobs_c_2 = np.load(blobs_c_2)[0]\n",
    "\n",
    "cm1 = config_c_1[0]\n",
    "cm2 = config_c_2[0]\n",
    "\n",
    "dc1 = config_c_1[1]\n",
    "dc2 = config_c_2[1]\n",
    "\n",
    "imgp1 = config_c_1[-1]\n",
    "imgp2 = config_c_2[-1]\n",
    "\n",
    "objp = config_c_1[-2]\n",
    "size = config_c_1[-3]\n",
    "\n"
   ]
  },
  {
   "cell_type": "markdown",
   "metadata": {},
   "source": [
    "Calculate the rotation and translation between cam 1 and 2:"
   ]
  },
  {
   "cell_type": "code",
   "execution_count": null,
   "metadata": {},
   "outputs": [],
   "source": [
    "ret, cm1, dc1, cm2, dc2, R, T, E, F = cv.stereoCalibrate(objp, imgp1, imgp2, cm1, dc1, cm2, dc2, size)\n",
    "# calculate projection matrices\n",
    "R1, R2, P1, P2, Q = cv.stereoRectify(cm1, dc1, cm2, dc2, size, R, T)"
   ]
  },
  {
   "cell_type": "markdown",
   "metadata": {},
   "source": [
    "Actual triangulation loop:"
   ]
  },
  {
   "cell_type": "code",
   "execution_count": null,
   "metadata": {},
   "outputs": [],
   "source": [
    "points = []\n",
    "for i, blobs in enumerate(blobs_c_1):\n",
    "    points_per_frame = []\n",
    "    for j, blob in enumerate(blobs):\n",
    "            points_per_frame.append(cv.triangulatePoints(P1, P2, p1, p2))\n",
    "    points.append(points_per_frame)"
   ]
  },
  {
   "cell_type": "markdown",
   "metadata": {},
   "source": [
    "Show the triangulated points:"
   ]
  },
  {
   "cell_type": "code",
   "execution_count": null,
   "metadata": {},
   "outputs": [],
   "source": [
    "import matplotlib.pyplot as plt\n",
    "from mpl_toolkits.plot3d import Axes3D\n",
    "\n",
    "ys = []\n",
    "for ps in points:\n",
    "    ys.append(ps[0])  # select on of the markers\n",
    "xs = len(ys)\n",
    "Axes3D.plot(xs, ys)"
   ]
  }
 ],
 "metadata": {
  "kernelspec": {
   "display_name": "Python 3",
   "language": "python",
   "name": "python3"
  },
  "language_info": {
   "codemirror_mode": {
    "name": "ipython",
    "version": 3
   },
   "file_extension": ".py",
   "mimetype": "text/x-python",
   "name": "python",
   "nbconvert_exporter": "python",
   "pygments_lexer": "ipython3",
   "version": "3.7.0"
  }
 },
 "nbformat": 4,
 "nbformat_minor": 2
}
